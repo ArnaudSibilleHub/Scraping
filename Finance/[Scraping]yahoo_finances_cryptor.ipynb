{
 "cells": [
  {
   "cell_type": "code",
   "execution_count": 10,
   "metadata": {},
   "outputs": [],
   "source": [
    "#import usual packages\n",
    "import numpy as np\n",
    "import pandas as pd\n",
    "import requests as rq\n",
    "import os\n",
    "import re"
   ]
  },
  {
   "cell_type": "code",
   "execution_count": null,
   "metadata": {},
   "outputs": [],
   "source": [
    "#call the page and display the response => bullshit\n",
    "page = rq.get('https://finance.yahoo.com/screener/predefined/all_cryptocurrencies_us/')\n",
    "page_content = page.content\n",
    "page_content"
   ]
  },
  {
   "cell_type": "code",
   "execution_count": null,
   "metadata": {},
   "outputs": [],
   "source": [
    "#use BeautifulSoup to try better => bullshit\n",
    "from bs4 import BeautifulSoup\n",
    "page_BS = BeautifulSoup(page_content, 'html.parser')\n",
    "page_BS"
   ]
  },
  {
   "cell_type": "code",
   "execution_count": null,
   "metadata": {},
   "outputs": [],
   "source": [
    "a_crypto_names = page_BS.find_all(\"a\", class_=[\"Fw(600)\", \"C($linkColor)\"])\n",
    "a_crypto_names_text = [a_crypto_name.get_text() for a_crypto_name in a_crypto_names]\n",
    "a_crypto_names_text[0]"
   ]
  },
  {
   "cell_type": "markdown",
   "metadata": {},
   "source": [
    "Scraping Yahoo finances crypto pages to retrieve list of crypto currencies symbols"
   ]
  },
  {
   "cell_type": "markdown",
   "metadata": {},
   "source": [
    "SELENIUM\n"
   ]
  },
  {
   "cell_type": "code",
   "execution_count": null,
   "metadata": {},
   "outputs": [],
   "source": [
    "# from selenium import webdriver\n",
    "\n",
    "from selenium import webdriver\n",
    "from webdriver_manager.chrome import ChromeDriverManager  # Ensure webdriver-manager is installed\n",
    "from selenium.webdriver.chrome.options import Options\n",
    "from selenium.webdriver.chrome.service import Service\n",
    "\n",
    "# Set Chrome options if necessary\n",
    "options = webdriver.ChromeOptions()\n",
    "\n",
    "# Automatically download and use the correct ChromeDriver version\n",
    "service = Service(ChromeDriverManager().install())  # This sets the correct ChromeDriver path\n",
    "\n",
    "\n",
    "driver = webdriver.Chrome(service=service, options=options)\n",
    "\n",
    "driver.get('https://finance.yahoo.com/screener/predefined/all_cryptocurrencies_us/')\n",
    "\n",
    "#submodules and classes within selenium.webdriver.common\n",
    "from selenium.webdriver.common.by import By\n",
    "\n",
    "#set up Webdriverwait and support classes\n",
    "from selenium.webdriver.support.ui import WebDriverWait\n",
    "from selenium.webdriver.support import expected_conditions as EC\n",
    "\n",
    "wait = WebDriverWait(driver, 5)\n",
    "\n"
   ]
  },
  {
   "cell_type": "code",
   "execution_count": 34,
   "metadata": {},
   "outputs": [],
   "source": [
    "#access to scrollDown_button and click to agree on main page \n",
    "\n",
    "scrollDown_button = WebDriverWait(driver, 5).until(EC.element_to_be_clickable((By.CSS_SELECTOR, '#scroll-down-btn')))\n",
    "scrollDown_button.click()\n",
    "\n",
    "okDataPrivacy = WebDriverWait(driver, 5).until(EC.element_to_be_clickable((By.CSS_SELECTOR, '#consent-page > div > div > div > form > div.wizard-body > div.actions.couple > button.btn.secondary.reject-all')))\n",
    "okDataPrivacy.click()"
   ]
  },
  {
   "cell_type": "code",
   "execution_count": null,
   "metadata": {},
   "outputs": [],
   "source": [
    "import time\n",
    "from selenium.webdriver.common.action_chains import ActionChains\n",
    "from selenium.webdriver.common.by import By\n",
    "from selenium.webdriver.support.ui import WebDriverWait\n",
    "from selenium.webdriver.support import expected_conditions as EC\n",
    "\n",
    "# Assuming driver and wait are already defined\n",
    "actions = ActionChains(driver)\n",
    "\n",
    "crypto_final_list= []\n",
    "\n",
    "def crypto_list(crypto_names):\n",
    "    \"\"\"Generator to fetch crypto names from paginated pages.\"\"\"\n",
    "    while True:\n",
    "        try:\n",
    "            # Yield current crypto names\n",
    "            yield crypto_names\n",
    "            \n",
    "            \n",
    "            # Find and interact with the Next button\n",
    "            next_button = wait.until(\n",
    "                EC.element_to_be_clickable((By.CSS_SELECTOR, \n",
    "                    '#scr-res-table > div.W\\(100\\%\\).Mt\\(15px\\).Ta\\(end\\) > button.Va\\(m\\).H\\(20px\\).Bd\\(0\\).M\\(0\\).P\\(0\\).Fz\\(s\\).Pstart\\(10px\\).O\\(n\\)\\:f.Fw\\(500\\).C\\(\\$linkColor\\) > span > span'\n",
    "                ))\n",
    "            )\n",
    "            \n",
    "            actions.move_to_element(next_button).perform()\n",
    "            next_button.click()\n",
    "\n",
    "            driver.refresh()\n",
    "            \n",
    "            # Wait for the next page to load\n",
    "            crypto_names = [elt.text for elt in wait.until(\n",
    "                EC.visibility_of_all_elements_located((By.CSS_SELECTOR, '[data-test=\"quoteLink\"]'))\n",
    "            )]\n",
    "\n",
    "\n",
    "        except Exception as e:\n",
    "            print('Error:', e)\n",
    "            break  # Exit the loop on error\n",
    "\n",
    "# Initialize scraping\n",
    "cryptos_a_list = wait.until(EC.visibility_of_all_elements_located(\n",
    "    (By.CSS_SELECTOR, '[data-test=\"quoteLink\"]')\n",
    "))\n",
    "initial_crypto_names = [elt.text for elt in cryptos_a_list]\n",
    "\n",
    "# Use generator\n",
    "crypto_generator = crypto_list(initial_crypto_names)\n",
    "\n",
    "\n",
    "# Consume the generator\n",
    "for crypto_names in crypto_generator:\n",
    "    crypto_final_list.extend(crypto_names)  # Add scraped names to final list\n",
    "    print(\"Current page cryptos:\", crypto_names)\n",
    "\n",
    "# Print the complete list\n",
    "print(\"All cryptocurrencies:\", crypto_final_list)\n",
    "\n"
   ]
  },
  {
   "cell_type": "code",
   "execution_count": 39,
   "metadata": {},
   "outputs": [],
   "source": [
    "import pandas as pd\n",
    "\n",
    "crypto_final_list = pd.DataFrame(crypto_final_list) \n",
    "crypto_final_list.to_csv(\"list_cryptos_yf.csv\")"
   ]
  }
 ],
 "metadata": {
  "kernelspec": {
   "display_name": "Python 3",
   "language": "python",
   "name": "python3"
  },
  "language_info": {
   "codemirror_mode": {
    "name": "ipython",
    "version": 3
   },
   "file_extension": ".py",
   "mimetype": "text/x-python",
   "name": "python",
   "nbconvert_exporter": "python",
   "pygments_lexer": "ipython3",
   "version": "3.11.9"
  }
 },
 "nbformat": 4,
 "nbformat_minor": 2
}
