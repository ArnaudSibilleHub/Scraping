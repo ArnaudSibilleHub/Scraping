{
 "cells": [
  {
   "cell_type": "code",
   "execution_count": null,
   "metadata": {},
   "outputs": [],
   "source": [
    "import numpy as np\n",
    "import pandas as pd\n",
    "import os\n",
    "\n",
    "import requests as rq\n",
    "import re\n",
    "\n"
   ]
  },
  {
   "cell_type": "code",
   "execution_count": null,
   "metadata": {},
   "outputs": [],
   "source": [
    "# request\n",
    "page = rq.get('https://www.lecomparateurassurance.com/annuaire-assurance')\n",
    "page_content=page.content\n",
    "page_content"
   ]
  },
  {
   "cell_type": "code",
   "execution_count": null,
   "metadata": {},
   "outputs": [],
   "source": [
    "#beautifulsoup\n",
    "from bs4 import BeautifulSoup\n",
    "page_BS = BeautifulSoup(page_content, 'html.parser')\n",
    "page_BS"
   ]
  },
  {
   "cell_type": "code",
   "execution_count": null,
   "metadata": {},
   "outputs": [],
   "source": [
    "page_BS.find_all('div', _class=['#liste_distributeurs > div:nth-child(1) > div'])"
   ]
  },
  {
   "cell_type": "code",
   "execution_count": null,
   "metadata": {},
   "outputs": [],
   "source": [
    "#dynamic content -> Selenium\n",
    "import selenium\n",
    "from selenium import webdriver\n",
    "#submodules and classes within selenium.webdriver.common\n",
    "from selenium.webdriver.common.by import By\n",
    "from selenium.webdriver.common.keys import Keys\n",
    "from selenium.webdriver.common.action_chains import ActionChains\n",
    "#manage exceptions tracking with common classes\n",
    "from selenium.common.exceptions import NoSuchWindowException , TimeoutException, WebDriverException, NoSuchElementException\n",
    "\n",
    "#set up chrome webdriver classes\n",
    "from selenium.webdriver.chrome.service import Service\n",
    "from selenium.webdriver.chrome.options import Options\n",
    "\n",
    "#set up Webdriverwait and support classes\n",
    "from selenium.webdriver.support.ui import WebDriverWait\n",
    "from selenium.webdriver.support import expected_conditions as EC\n"
   ]
  },
  {
   "cell_type": "code",
   "execution_count": null,
   "metadata": {},
   "outputs": [],
   "source": [
    "\n",
    "try:\n",
    "#Initialize Webdriver\n",
    "    service = Service()\n",
    "    options = webdriver.ChromeOptions()\n",
    "    driver = webdriver.Chrome(service=service, options=options)\n",
    "    driver.get('https://www.lecomparateurassurance.com/annuaire-assurance')\n",
    "\n",
    "    #access to dataPrivacy_button\n",
    "    OkButton = driver.find_element(By.CSS_SELECTOR, '#popin_tc_privacy_button_2')\n",
    "    OkButton.click()\n",
    "\n",
    "       # Input city name for search\n",
    "    input_element = WebDriverWait(driver, 10).until(EC.presence_of_element_located((By.CSS_SELECTOR, '#searchTextField')))\n",
    "    input_element.send_keys('Roubaix' + Keys.RETURN)  # Pressing Enter after inputting the city name\n",
    "\n",
    "\n",
    "\n",
    "    #click button\n",
    "\n",
    "    # Wait for the elements to be present\n",
    "    wait = WebDriverWait(driver, 20)\n",
    "    names_list = wait.until(EC.presence_of_all_elements_located((By.CSS_SELECTOR, '#listeAssureurs > div#liste_distributeurs > div.assureurs.cursor--pointer__only > div.assureurs__infos > div.infos__name')))\n",
    "    \n",
    "    # Extract insurer names\n",
    "    names_list = driver.find_elements(By.CSS_SELECTOR, '#listeAssureurs > div#liste_distributeurs > div.assureurs.cursor--pointer__only > div.assureurs__infos > div.infos__name')\n",
    "    insurers_list = [name.text for name in names_list]  # Extracting text from elements\n",
    "\n",
    "    # Print the list of insurers\n",
    "    print(\"List of insurers in Roubaix:\")\n",
    "    for insurer in insurers_list:\n",
    "        print(insurer)\n",
    "\n",
    "except Exception as e:\n",
    "    print('An error occurred:', {e})\n",
    "\n",
    "finally:\n",
    "    # Close the WebDriver session\n",
    "    driver.quit()"
   ]
  },
  {
   "cell_type": "code",
   "execution_count": null,
   "metadata": {},
   "outputs": [],
   "source": [
    "\n",
    "try:\n",
    "#Initialize Webdriver\n",
    "    service = Service()\n",
    "    options = webdriver.ChromeOptions()\n",
    "    driver = webdriver.Chrome(service=service, options=options)\n",
    "    driver.get('https://www.lecomparateurassurance.com/annuaire-assurance')\n",
    "\n",
    "    #access to dataPrivacy_button\n",
    "    OkButton = driver.find_element(By.CSS_SELECTOR, '#popin_tc_privacy_button_2')\n",
    "    OkButton.click()\n",
    "\n",
    "       # Input city name for search\n",
    "    input_element = WebDriverWait(driver, 10).until(EC.presence_of_element_located((By.CSS_SELECTOR, '#searchTextField')))\n",
    "    input_element.send_keys('Roubaix' + Keys.RETURN)  # Pressing Enter after inputting the city name\n",
    "\n",
    "    # Wait for the elements to be present\n",
    "    wait = WebDriverWait(driver, 20)\n",
    "    names_list = wait.until(EC.presence_of_all_elements_located((By.CSS_SELECTOR, '#listeAssureurs > div#liste_distributeurs > div.assureurs.cursor--pointer__only > div.assureurs__infos > div.infos__name')))\n",
    "    \n",
    "    dict_insurers={}\n",
    "    # Extract insurer names\n",
    "    names_list = driver.find_elements(By.CSS_SELECTOR, '#listeAssureurs > div#liste_distributeurs > div.assureurs.cursor--pointer__only > div.assureurs__infos > div.infos__name')\n",
    "    insurers_list = [name.text for name in names_list]  # Extracting text from elements\n",
    "\n",
    "    for insurer in insurers_list:\n",
    "        dict_insurers.append(insurer)\n",
    "\n",
    "    print(dict_insurers)\n",
    "\n",
    "    # Print the list of insurers\n",
    "    print(\"List of insurers in Roubaix:\")\n",
    "    for insurer in insurers_list:\n",
    "        print(insurer)\n",
    "\n",
    "except Exception as e:\n",
    "    print('An error occurred:', {e})\n",
    "\n",
    "finally:\n",
    "    # Close the WebDriver session\n",
    "    driver.quit()"
   ]
  }
 ],
 "metadata": {
  "kernelspec": {
   "display_name": "Python 3",
   "language": "python",
   "name": "python3"
  },
  "language_info": {
   "codemirror_mode": {
    "name": "ipython",
    "version": 3
   },
   "file_extension": ".py",
   "mimetype": "text/x-python",
   "name": "python",
   "nbconvert_exporter": "python",
   "pygments_lexer": "ipython3",
   "version": "3.11.8"
  }
 },
 "nbformat": 4,
 "nbformat_minor": 2
}
